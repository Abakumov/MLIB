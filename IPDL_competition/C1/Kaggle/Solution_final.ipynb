{
 "cells": [
  {
   "cell_type": "code",
   "execution_count": 1,
   "metadata": {
    "_cell_guid": "b1076dfc-b9ad-4769-8c92-a6c4dae69d19",
    "_uuid": "8f2839f25d086af736a60e9eeb907d3b93b6e0e5"
   },
   "outputs": [
    {
     "name": "stdout",
     "output_type": "stream",
     "text": [
      "2.0.0\n"
     ]
    }
   ],
   "source": [
    "import numpy as np\n",
    "import pandas as pd \n",
    "\n",
    "from sklearn.preprocessing import LabelBinarizer\n",
    "from sklearn.preprocessing import MinMaxScaler\n",
    "from sklearn.model_selection import train_test_split\n",
    "\n",
    "import tensorflow as tf\n",
    "\n",
    "from tensorflow import keras\n",
    "from tensorflow.keras import layers\n",
    "\n",
    "print(tf.__version__)\n",
    "\n",
    "import glob\n",
    "import cv2\n",
    "import os\n"
   ]
  },
  {
   "cell_type": "code",
   "execution_count": 2,
   "metadata": {
    "_cell_guid": "79c7e3d0-c299-4dcb-8224-4455121ee9b0",
    "_uuid": "d629ff2d2480ee46fbb7e2d37f6b5fab8052498a"
   },
   "outputs": [],
   "source": [
    "test = pd.read_csv(\"test.csv\")\n",
    "train = pd.read_csv(\"train.csv\")\n",
    "sampleSabmission = pd.read_csv(\"sampleSubmission.csv\")"
   ]
  },
  {
   "cell_type": "code",
   "execution_count": 3,
   "metadata": {},
   "outputs": [
    {
     "data": {
      "text/html": [
       "<div>\n",
       "<style scoped>\n",
       "    .dataframe tbody tr th:only-of-type {\n",
       "        vertical-align: middle;\n",
       "    }\n",
       "\n",
       "    .dataframe tbody tr th {\n",
       "        vertical-align: top;\n",
       "    }\n",
       "\n",
       "    .dataframe thead th {\n",
       "        text-align: right;\n",
       "    }\n",
       "</style>\n",
       "<table border=\"1\" class=\"dataframe\">\n",
       "  <thead>\n",
       "    <tr style=\"text-align: right;\">\n",
       "      <th></th>\n",
       "      <th>Id</th>\n",
       "      <th>X</th>\n",
       "      <th>Y</th>\n",
       "      <th>Z</th>\n",
       "      <th>Time</th>\n",
       "    </tr>\n",
       "  </thead>\n",
       "  <tbody>\n",
       "    <tr>\n",
       "      <th>0</th>\n",
       "      <td>1</td>\n",
       "      <td>2481900</td>\n",
       "      <td>528800</td>\n",
       "      <td>586</td>\n",
       "      <td>1.299872</td>\n",
       "    </tr>\n",
       "    <tr>\n",
       "      <th>1</th>\n",
       "      <td>2</td>\n",
       "      <td>2488400</td>\n",
       "      <td>530200</td>\n",
       "      <td>11686</td>\n",
       "      <td>1.679518</td>\n",
       "    </tr>\n",
       "    <tr>\n",
       "      <th>2</th>\n",
       "      <td>3</td>\n",
       "      <td>2495000</td>\n",
       "      <td>518400</td>\n",
       "      <td>6386</td>\n",
       "      <td>1.952326</td>\n",
       "    </tr>\n",
       "  </tbody>\n",
       "</table>\n",
       "</div>"
      ],
      "text/plain": [
       "   Id        X       Y      Z      Time\n",
       "0   1  2481900  528800    586  1.299872\n",
       "1   2  2488400  530200  11686  1.679518\n",
       "2   3  2495000  518400   6386  1.952326"
      ]
     },
     "execution_count": 3,
     "metadata": {},
     "output_type": "execute_result"
    }
   ],
   "source": [
    "train.head(3)\n"
   ]
  },
  {
   "cell_type": "code",
   "execution_count": 4,
   "metadata": {},
   "outputs": [
    {
     "data": {
      "text/html": [
       "<div>\n",
       "<style scoped>\n",
       "    .dataframe tbody tr th:only-of-type {\n",
       "        vertical-align: middle;\n",
       "    }\n",
       "\n",
       "    .dataframe tbody tr th {\n",
       "        vertical-align: top;\n",
       "    }\n",
       "\n",
       "    .dataframe thead th {\n",
       "        text-align: right;\n",
       "    }\n",
       "</style>\n",
       "<table border=\"1\" class=\"dataframe\">\n",
       "  <thead>\n",
       "    <tr style=\"text-align: right;\">\n",
       "      <th></th>\n",
       "      <th>Id</th>\n",
       "      <th>X</th>\n",
       "      <th>Y</th>\n",
       "      <th>Z</th>\n",
       "    </tr>\n",
       "  </thead>\n",
       "  <tbody>\n",
       "    <tr>\n",
       "      <th>0</th>\n",
       "      <td>1</td>\n",
       "      <td>2488500</td>\n",
       "      <td>511100</td>\n",
       "      <td>11286</td>\n",
       "    </tr>\n",
       "    <tr>\n",
       "      <th>1</th>\n",
       "      <td>2</td>\n",
       "      <td>2471600</td>\n",
       "      <td>529600</td>\n",
       "      <td>2386</td>\n",
       "    </tr>\n",
       "    <tr>\n",
       "      <th>2</th>\n",
       "      <td>3</td>\n",
       "      <td>2483100</td>\n",
       "      <td>521300</td>\n",
       "      <td>10986</td>\n",
       "    </tr>\n",
       "  </tbody>\n",
       "</table>\n",
       "</div>"
      ],
      "text/plain": [
       "   Id        X       Y      Z\n",
       "0   1  2488500  511100  11286\n",
       "1   2  2471600  529600   2386\n",
       "2   3  2483100  521300  10986"
      ]
     },
     "execution_count": 4,
     "metadata": {},
     "output_type": "execute_result"
    }
   ],
   "source": [
    "test.head(3)"
   ]
  },
  {
   "cell_type": "code",
   "execution_count": 5,
   "metadata": {},
   "outputs": [
    {
     "data": {
      "text/html": [
       "<div>\n",
       "<style scoped>\n",
       "    .dataframe tbody tr th:only-of-type {\n",
       "        vertical-align: middle;\n",
       "    }\n",
       "\n",
       "    .dataframe tbody tr th {\n",
       "        vertical-align: top;\n",
       "    }\n",
       "\n",
       "    .dataframe thead th {\n",
       "        text-align: right;\n",
       "    }\n",
       "</style>\n",
       "<table border=\"1\" class=\"dataframe\">\n",
       "  <thead>\n",
       "    <tr style=\"text-align: right;\">\n",
       "      <th></th>\n",
       "      <th>Id</th>\n",
       "      <th>Predicted</th>\n",
       "    </tr>\n",
       "  </thead>\n",
       "  <tbody>\n",
       "    <tr>\n",
       "      <th>0</th>\n",
       "      <td>1</td>\n",
       "      <td>0</td>\n",
       "    </tr>\n",
       "    <tr>\n",
       "      <th>1</th>\n",
       "      <td>2</td>\n",
       "      <td>0</td>\n",
       "    </tr>\n",
       "    <tr>\n",
       "      <th>2</th>\n",
       "      <td>3</td>\n",
       "      <td>0</td>\n",
       "    </tr>\n",
       "  </tbody>\n",
       "</table>\n",
       "</div>"
      ],
      "text/plain": [
       "   Id  Predicted\n",
       "0   1          0\n",
       "1   2          0\n",
       "2   3          0"
      ]
     },
     "execution_count": 5,
     "metadata": {},
     "output_type": "execute_result"
    }
   ],
   "source": [
    "sampleSabmission.head(3)"
   ]
  },
  {
   "cell_type": "code",
   "execution_count": 6,
   "metadata": {},
   "outputs": [
    {
     "name": "stdout",
     "output_type": "stream",
     "text": [
      "(1086557, 3)\n",
      "(1086558, 3)\n",
      "(1086557,)\n"
     ]
    }
   ],
   "source": [
    "X_train_orig = train[[\"X\", \"Y\", \"Z\"]]\n",
    "X_test_orig  = test[[\"X\", \"Y\", \"Z\"]]\n",
    "Y_train_orig = train[\"Time\"]\n",
    "\n",
    "X_train_orig = np.asarray(X_train_orig)\n",
    "Y_train_orig = np.asarray(Y_train_orig)\n",
    "X_test_orig = np.asarray(X_test_orig)\n",
    "\n",
    "print(X_train_orig.shape)\n",
    "print(X_test_orig.shape)\n",
    "print(Y_train_orig.shape)\n"
   ]
  },
  {
   "cell_type": "markdown",
   "metadata": {},
   "source": [
    "Let us now scale the data. We will use [MinMaxScaler](https://scikit-learn.org/stable/modules/generated/sklearn.preprocessing.MinMaxScaler.html) from sklearn library.\n",
    "\n",
    "The transformation is given by:\n",
    "\n",
    "> X_std = (X - X.min(axis=0)) / (X.max(axis=0) - X.min(axis=0)) \n",
    "\n",
    "> X_scaled = X_std * (max - min) + min"
   ]
  },
  {
   "cell_type": "code",
   "execution_count": 7,
   "metadata": {},
   "outputs": [
    {
     "name": "stdout",
     "output_type": "stream",
     "text": [
      "Maximum values of X_train (X, Y, Z): [2496500.  530500.   12986.]\n",
      "Minimum values of X_train (X, Y, Z): [ 2.469e+06  5.010e+05 -2.140e+02]\n"
     ]
    }
   ],
   "source": [
    "scaler = MinMaxScaler(feature_range=(-1, 1), copy=True)\n",
    "scaler.fit(X_train_orig)\n",
    "print(\"Maximum values of X_train (X, Y, Z): \" + str(scaler.data_max_))\n",
    "print(\"Minimum values of X_train (X, Y, Z): \" + str(scaler.data_min_))\n",
    "\n",
    "# Use the same transform for both train and test data:\n",
    "X_train_norm = scaler.transform(X_train_orig)\n",
    "X_test_norm = scaler.transform(X_test_orig)"
   ]
  },
  {
   "cell_type": "code",
   "execution_count": 8,
   "metadata": {},
   "outputs": [
    {
     "name": "stdout",
     "output_type": "stream",
     "text": [
      "(869245, 3)\n",
      "(869245,)\n",
      "(217312, 3)\n",
      "(217312,)\n"
     ]
    }
   ],
   "source": [
    "# create training and testing vars\n",
    "\n",
    "X_train, X_val, y_train, y_val = train_test_split(X_train_norm, Y_train_orig, test_size=0.2)\n",
    "print(X_train.shape)\n",
    "print(y_train.shape)\n",
    "print(X_val.shape)\n",
    "print(y_val.shape)"
   ]
  },
  {
   "cell_type": "code",
   "execution_count": 72,
   "metadata": {},
   "outputs": [
    {
     "name": "stdout",
     "output_type": "stream",
     "text": [
      "Model: \"sequential_20\"\n",
      "_________________________________________________________________\n",
      "Layer (type)                 Output Shape              Param #   \n",
      "=================================================================\n",
      "dense_128 (Dense)            (None, 64)                256       \n",
      "_________________________________________________________________\n",
      "dense_129 (Dense)            (None, 32)                2080      \n",
      "_________________________________________________________________\n",
      "dense_130 (Dense)            (None, 32)                1056      \n",
      "_________________________________________________________________\n",
      "dense_131 (Dense)            (None, 16)                528       \n",
      "_________________________________________________________________\n",
      "dense_132 (Dense)            (None, 16)                272       \n",
      "_________________________________________________________________\n",
      "dense_133 (Dense)            (None, 8)                 136       \n",
      "_________________________________________________________________\n",
      "dense_134 (Dense)            (None, 8)                 72        \n",
      "_________________________________________________________________\n",
      "dense_135 (Dense)            (None, 1)                 9         \n",
      "=================================================================\n",
      "Total params: 4,409\n",
      "Trainable params: 4,409\n",
      "Non-trainable params: 0\n",
      "_________________________________________________________________\n",
      "None\n"
     ]
    }
   ],
   "source": [
    "model = keras.Sequential([\n",
    "    keras.layers.Dense(64, input_dim=3, activation='relu'),\n",
    "    keras.layers.Dense(32, activation=\"relu\"),\n",
    "    keras.layers.Dense(32, activation=\"relu\"),\n",
    "    keras.layers.Dense(16, activation=\"relu\"),\n",
    "    keras.layers.Dense(16, activation=\"relu\"),\n",
    "    keras.layers.Dense(8, activation=\"relu\"),\n",
    "    keras.layers.Dense(8, activation=\"relu\"),\n",
    "    keras.layers.Dense(1, activation=\"linear\")\n",
    "])\n",
    "\n",
    "print(model.summary())"
   ]
  },
  {
   "cell_type": "code",
   "execution_count": 73,
   "metadata": {},
   "outputs": [],
   "source": [
    "model.compile(optimizer='adam',\n",
    "              loss='MSE',\n",
    "              metrics=['MAE'])"
   ]
  },
  {
   "cell_type": "code",
   "execution_count": 74,
   "metadata": {},
   "outputs": [
    {
     "name": "stdout",
     "output_type": "stream",
     "text": [
      "Train on 869245 samples, validate on 217312 samples\n",
      "Epoch 1/20\n",
      "869245/869245 [==============================] - 2s 2us/sample - loss: 0.1288 - MAE: 0.1270 - val_loss: 5.8147e-04 - val_MAE: 0.0180\n",
      "Epoch 2/20\n",
      "869245/869245 [==============================] - 1s 2us/sample - loss: 2.5850e-04 - MAE: 0.0121 - val_loss: 1.4971e-04 - val_MAE: 0.0096\n",
      "Epoch 3/20\n",
      "869245/869245 [==============================] - 1s 2us/sample - loss: 1.1975e-04 - MAE: 0.0085 - val_loss: 9.8768e-05 - val_MAE: 0.0077\n",
      "Epoch 4/20\n",
      "869245/869245 [==============================] - 1s 2us/sample - loss: 8.6888e-05 - MAE: 0.0073 - val_loss: 7.3302e-05 - val_MAE: 0.0067\n",
      "Epoch 5/20\n",
      "869245/869245 [==============================] - 2s 2us/sample - loss: 6.6387e-05 - MAE: 0.0064 - val_loss: 5.8297e-05 - val_MAE: 0.0060\n",
      "Epoch 6/20\n",
      "869245/869245 [==============================] - 1s 2us/sample - loss: 5.6550e-05 - MAE: 0.0059 - val_loss: 5.2550e-05 - val_MAE: 0.0057\n",
      "Epoch 7/20\n",
      "869245/869245 [==============================] - 1s 2us/sample - loss: 5.3860e-05 - MAE: 0.0058 - val_loss: 4.1791e-05 - val_MAE: 0.0051\n",
      "Epoch 8/20\n",
      "869245/869245 [==============================] - 1s 2us/sample - loss: 5.0433e-05 - MAE: 0.0056 - val_loss: 5.8441e-05 - val_MAE: 0.0061\n",
      "Epoch 9/20\n",
      "869245/869245 [==============================] - 1s 2us/sample - loss: 4.8054e-05 - MAE: 0.0054 - val_loss: 6.3513e-05 - val_MAE: 0.0064\n",
      "Epoch 10/20\n",
      "869245/869245 [==============================] - 1s 2us/sample - loss: 4.4612e-05 - MAE: 0.0052 - val_loss: 3.4989e-05 - val_MAE: 0.0047\n",
      "Epoch 11/20\n",
      "869245/869245 [==============================] - 1s 2us/sample - loss: 4.2011e-05 - MAE: 0.0051 - val_loss: 4.8694e-05 - val_MAE: 0.0056\n",
      "Epoch 12/20\n",
      "869245/869245 [==============================] - 1s 2us/sample - loss: 3.9979e-05 - MAE: 0.0049 - val_loss: 5.3456e-05 - val_MAE: 0.0060\n",
      "Epoch 13/20\n",
      "869245/869245 [==============================] - 1s 2us/sample - loss: 3.6225e-05 - MAE: 0.0047 - val_loss: 4.4791e-05 - val_MAE: 0.0054\n",
      "Epoch 14/20\n",
      "869245/869245 [==============================] - 2s 2us/sample - loss: 3.5045e-05 - MAE: 0.0046 - val_loss: 3.5008e-05 - val_MAE: 0.0048\n",
      "Epoch 15/20\n",
      "869245/869245 [==============================] - 2s 2us/sample - loss: 3.3561e-05 - MAE: 0.0045 - val_loss: 2.4244e-05 - val_MAE: 0.0039\n",
      "Epoch 16/20\n",
      "869245/869245 [==============================] - 2s 2us/sample - loss: 3.2426e-05 - MAE: 0.0045 - val_loss: 2.1375e-05 - val_MAE: 0.0037\n",
      "Epoch 17/20\n",
      "869245/869245 [==============================] - 2s 2us/sample - loss: 3.1731e-05 - MAE: 0.0044 - val_loss: 2.1705e-05 - val_MAE: 0.0037\n",
      "Epoch 18/20\n",
      "869245/869245 [==============================] - 2s 2us/sample - loss: 3.0404e-05 - MAE: 0.0043 - val_loss: 5.1183e-05 - val_MAE: 0.0060\n",
      "Epoch 19/20\n",
      "869245/869245 [==============================] - 2s 2us/sample - loss: 2.9651e-05 - MAE: 0.0042 - val_loss: 3.1124e-05 - val_MAE: 0.0045\n",
      "Epoch 20/20\n",
      "869245/869245 [==============================] - 2s 2us/sample - loss: 2.8311e-05 - MAE: 0.0041 - val_loss: 2.7176e-05 - val_MAE: 0.0041\n"
     ]
    }
   ],
   "source": [
    "history = model.fit(X_train, y_train, validation_data=(X_val, y_val), batch_size=1024, epochs=20)"
   ]
  },
  {
   "cell_type": "code",
   "execution_count": 62,
   "metadata": {},
   "outputs": [
    {
     "name": "stdout",
     "output_type": "stream",
     "text": [
      "\n",
      "Test loss: 2.168219089727739e-05\n",
      "\n",
      "Test accuracy: 0.0036353334\n"
     ]
    }
   ],
   "source": [
    "test_loss, test_acc = model.evaluate(X_val, y_val, verbose=0)\n",
    "print('\\nTest loss:', test_loss)\n",
    "print('\\nTest accuracy:', test_acc)"
   ]
  },
  {
   "cell_type": "code",
   "execution_count": null,
   "metadata": {},
   "outputs": [],
   "source": [
    "print('\\nhistory dict:', history.history.keys())"
   ]
  },
  {
   "cell_type": "code",
   "execution_count": null,
   "metadata": {
    "scrolled": true
   },
   "outputs": [],
   "source": [
    "import matplotlib.pyplot as plt\n",
    "\n",
    "plt.figure(figsize=(7, 4))\n",
    "plt.subplot(2, 1, 1)\n",
    "plt.plot(history.history['MAE'])\n",
    "plt.plot(history.history['val_MAE'])\n",
    "plt.title('Model accuracy')\n",
    "plt.ylabel('accuracy')\n",
    "plt.xlabel('epoch')\n",
    "plt.yscale('log')\n",
    "plt.legend(['train', 'test'], loc='upper left')\n",
    "plt.grid(True)\n",
    "plt.show()\n",
    "plt.subplot(2, 1, 2)\n",
    "plt.plot(history.history['loss'])\n",
    "plt.plot(history.history['val_loss'])\n",
    "plt.title('Model loss')\n",
    "plt.ylabel('loss')\n",
    "plt.xlabel('epoch')\n",
    "plt.yscale('log')\n",
    "plt.legend(['train', 'test'], loc='upper left')\n",
    "plt.grid(True)\n",
    "plt.show()"
   ]
  },
  {
   "cell_type": "code",
   "execution_count": null,
   "metadata": {},
   "outputs": [],
   "source": [
    "# Generate predictions\n",
    "predictions = model.predict(X_test_norm)"
   ]
  },
  {
   "cell_type": "code",
   "execution_count": null,
   "metadata": {},
   "outputs": [],
   "source": [
    "mySubmission = sampleSabmission\n",
    "mySubmission[\"Predicted\"] = predictions\n",
    "\n",
    "mySubmission.head()\n",
    "\n",
    "filename = 'IvanPredictions_13.csv'\n",
    "\n",
    "mySubmission.to_csv(filename,index=False)\n",
    "\n",
    "print('Saved file: ' + filename)"
   ]
  },
  {
   "cell_type": "code",
   "execution_count": null,
   "metadata": {},
   "outputs": [],
   "source": []
  }
 ],
 "metadata": {
  "kernelspec": {
   "display_name": "Python 3",
   "language": "python",
   "name": "python3"
  },
  "language_info": {
   "codemirror_mode": {
    "name": "ipython",
    "version": 3
   },
   "file_extension": ".py",
   "mimetype": "text/x-python",
   "name": "python",
   "nbconvert_exporter": "python",
   "pygments_lexer": "ipython3",
   "version": "3.7.5"
  }
 },
 "nbformat": 4,
 "nbformat_minor": 1
}
